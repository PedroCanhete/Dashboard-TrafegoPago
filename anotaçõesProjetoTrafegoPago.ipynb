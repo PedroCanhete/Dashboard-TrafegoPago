{
 "cells": [
  {
   "cell_type": "markdown",
   "metadata": {},
   "source": [
    "### Projeto de Análise de Tráfego Pago\n",
    "Este projeto tem como objetivo estruturar, transformar e visualizar dados de um site fictício para entender o impacto do tráfego pago. A partir de um processo completo de ETL (Extração, Transformação e Carga), organizamos os dados, criamos hierarquias e desenvolvemos visualizações estratégicas para identificar padrões, otimizar investimentos e extrair insights valiosos sobre a performance das campanhas."
   ]
  },
  {
   "cell_type": "markdown",
   "metadata": {},
   "source": [
    "### Contexto do Projeto – Análise de Tráfego Pago\n",
    "A empresa de e-commerce **outro nome** busca otimizar seus investimentos em tráfego pago para atrair visitantes e converter acessos em resultados efetivos. Para isso, é essencial entender o comportamento dos usuários dentro do site, identificar padrões de navegação e avaliar a efetividade das campanhas de aquisição.\n",
    "\n",
    "Este projeto tem como objetivo transformar dados brutos em insights estratégicos, permitindo uma tomada de decisão mais assertiva. Com base nos dados disponíveis, algumas das principais análises que serão desenvolvidas incluem:\n",
    "\n",
    "🔹 Análise de Navegação → Quantidade de páginas visitadas por sessão e o tempo médio na página.\\\n",
    "🔹 Qualidade do Tráfego → Taxa de rejeição e taxa de conversão para entender o engajamento do usuário.\\\n",
    "🔹 Efetividade dos Canais de Tráfego → Comparação entre origens de tráfego (Orgânico, Pago, Social, etc.) e seu impacto no tempo de navegação.\\\n",
    "🔹 Comportamento de Retorno → Análise das visitas anteriores para avaliar a fidelização dos usuários.\n",
    "\n",
    "Essas informações serão estruturadas em um dashboard interativo no Power BI, permitindo a visualização clara dos resultados e a extração de insights valiosos para otimizar investimentos, melhorar a experiência do usuário e aumentar as conversões no site."
   ]
  },
  {
   "cell_type": "markdown",
   "metadata": {},
   "source": [
    "### Início do Projeto"
   ]
  },
  {
   "cell_type": "markdown",
   "metadata": {},
   "source": [
    "Para o início do projeto fizemos o download da base de dados da Kaggle (https://www.kaggle.com/datasets/anthonytherrien/website-traffic), subimos para o powerBI e definimos seu limitador a fim de entenderemos a base de dados (títulos já traduzidos):\n",
    "\n",
    "- **Páginas visitadas** - *quantidade de páginas visitadas pelo usuário durante a sessão*\n",
    "    - Esse recurso indica o nível de engajamento dos visitantes mostrando quantas páginas eles visitaram durante a sessão.\n",
    "\n",
    "- **Duração da sessão (minutos)** - *quanto tempo o usuário passou em nosso site durante sua sessão (retenção)*\n",
    "    - Esse mede o tempo que um visitante permanece no site, o que pode indicar a qualidade do conteúdo.\n",
    "\n",
    "- **Taxa de rejeição** - *percentual de visitantes que saem do site após visualizar uma página*\n",
    "    - Uma meta crítica para entender o comportamento do usuário. Uma alta taxa aqui pode indicar que os visitantes não estão encontrando o que procuram.\n",
    "\n",
    "- **Origem do tráfego** - *de onde vieram nossas visitas*\n",
    "    - Entender de onde o nosso tráfego vem pode ajudar a refinar e otimizar nossas campanhas de marketing.\n",
    "\n",
    "- **Tempo na página (minutos)** - *quanto tempo o usuário passou em uma mesma página específica*\n",
    "    - Ajuda a entender quais páginas estão retendo mais a atenção dos visitantes.\n",
    "\n",
    "- **Visitas anteriores** - *quantas visitas o usuário fez em nosso site anteriormente*\n",
    "    - Pode ser utilizado para analisar a fidelidade dos visitantes e a eficácia das estratégias de retenção.\n",
    "\n",
    "- **Taxa de conversão** - *percentual de visitantes que completaram alguma ação específica (por exemplo: comprar algum item).*\n",
    "    - A métrica definitiva para medir a eficácia do site em atingir seus **objetivos**.\n"
   ]
  },
  {
   "cell_type": "markdown",
   "metadata": {},
   "source": [
    "### ETL - Tratamento e Load\n"
   ]
  },
  {
   "cell_type": "markdown",
   "metadata": {},
   "source": [
    "Após o entendimento, vamos as tratativas feitas em Python e PowerBI:\n",
    "- Ajuste dos tipos dos dados (python);\n",
    "- Tratamento das colunas de tempo (python);\n",
    "- Tratamento dos tipos dos dados (python);\n",
    "- Promoção de cabeçalhos (PBI);\n",
    "- Tradução de títulos das colunas (PBI); \n",
    "- Verificação de nulos e duplicatas (PBI)."
   ]
  },
  {
   "cell_type": "markdown",
   "metadata": {},
   "source": [
    "### Análises \n",
    "\n",
    "Montados os devidos paineis com análises feitas no PowerBI, além das métricas apresentadas, incluímos sugestões de melhorias e pontos chaves para melhora de todas as medidas calculadas. Os painéis são:\n",
    "- *Análise de navegação dos usuários*\n",
    "- *Análise da qualidade do tráfego*\n",
    "- *Análise da efetividade dos canais*\n",
    "- *Análise da fidelização dos clientes*"
   ]
  },
  {
   "cell_type": "markdown",
   "metadata": {},
   "source": [
    "### Dashboard\n",
    "\n",
    "Após as análises feitas, apenas finalizamos a dashboard com algumas métricas chaves para o gestor do projeto se debruçar. Foram incluídas métricas utilizadas nas análises enviadas, para que o responsável das campanhas possa fazer suas próprias análises em pontos específicos e levar sua experiência em consideração. "
   ]
  },
  {
   "cell_type": "markdown",
   "metadata": {},
   "source": [
    "### Finalização\n",
    "\n",
    "Finalização do projeto de tráfego pago; nele foi utilizado Python, Excel e power BI para todo o processo. Visitamos os dados e tiramos insights cruciais para o aumento de diversas métricas importantes para o site como conversão, rejeição ou retenção. Além das análises feitas, fizemos uma dashboard analítica para o gestor do projeto poder tirar seus próprios insights."
   ]
  }
 ],
 "metadata": {
  "language_info": {
   "name": "python"
  }
 },
 "nbformat": 4,
 "nbformat_minor": 2
}
