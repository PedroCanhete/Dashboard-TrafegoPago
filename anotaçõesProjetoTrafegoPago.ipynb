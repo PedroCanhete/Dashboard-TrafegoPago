{
 "cells": [
  {
   "cell_type": "markdown",
   "metadata": {},
   "source": [
    "### Projeto de Análise de Tráfego Pago\n",
    "Este projeto tem como objetivo estruturar, transformar e visualizar dados de um site fictício para entender o impacto do tráfego pago. A partir de um processo completo de ETL (Extração, Transformação e Carga), organizamos os dados, criamos hierarquias e desenvolvemos visualizações estratégicas para identificar padrões, otimizar investimentos e extrair insights valiosos sobre a performance das campanhas."
   ]
  },
  {
   "cell_type": "markdown",
   "metadata": {},
   "source": [
    "### Contexto do Projeto – Análise de Tráfego Pago\n",
    "A empresa de e-commerce WebSite busca otimizar seus investimentos em tráfego pago para atrair visitantes e converter acessos em resultados efetivos. Para isso, é essencial entender o comportamento dos usuários dentro do site, identificar padrões de navegação e avaliar a efetividade das campanhas de aquisição.\n",
    "\n",
    "Este projeto tem como objetivo transformar dados brutos em insights estratégicos, permitindo uma tomada de decisão mais assertiva. Com base nos dados disponíveis, algumas das principais análises que serão desenvolvidas incluem:\n",
    "\n",
    "🔹 Análise de Navegação → Quantidade de páginas visitadas por sessão e o tempo médio na página.\\\n",
    "🔹 Qualidade do Tráfego → Taxa de rejeição e taxa de conversão para entender o engajamento do usuário.\\\n",
    "🔹 Efetividade dos Canais de Tráfego → Comparação entre origens de tráfego (Orgânico, Pago, Social, etc.) e seu impacto no tempo de navegação.\\\n",
    "🔹 Comportamento de Retorno → Análise das visitas anteriores para avaliar a fidelização dos usuários.\n",
    "\n",
    "Essas informações serão estruturadas em um dashboard interativo no Power BI, permitindo a visualização clara dos resultados e a extração de insights valiosos para otimizar investimentos, melhorar a experiência do usuário e aumentar as conversões no site."
   ]
  },
  {
   "cell_type": "markdown",
   "metadata": {},
   "source": [
    "### Início do Projeto"
   ]
  },
  {
   "cell_type": "markdown",
   "metadata": {},
   "source": [
    "Para o início do projeto fizemos o download da base de dados da Kaggle (https://www.kaggle.com/datasets/anthonytherrien/website-traffic), subimos para o powerBI e definimos seu limitador a fim de entenderemos a base de dados (títulos já traduzidos):\n",
    "\n",
    "- **Páginas visitadas** - *quantidade de páginas visitadas pelo usuário durante a sessão*\n",
    "    - Esse recurso indica o nível de engajamento dos visitantes mostrando quantas páginas eles visitaram durante a sessão.\n",
    "\n",
    "- **Duração da sessão (minutos)** - *quanto tempo o usuário passou em nosso site durante sua sessão (retenção)*\n",
    "    - Esse mede o tempo que um visitante permanece no site, o que pode indicar a qualidade do conteúdo.\n",
    "\n",
    "- **Taxa de rejeição** - *percentual de visitantes que saem do site após visualizar uma página*\n",
    "    - Uma meta crítica para entender o comportamento do usuário. Uma alta taxa aqui pode indicar que os visitantes não estão encontrando o que procuram.\n",
    "\n",
    "- **Origem do tráfego** - *de onde vieram nossas visitas*\n",
    "    - Entender de onde o nosso tráfego vem pode ajudar a refinar e otimizar nossas campanhas de marketing.\n",
    "\n",
    "- **Tempo na página (minutos)** - *quanto tempo o usuário passou em uma mesma página específica*\n",
    "    - Ajuda a entender quais páginas estão retendo mais a atenção dos visitantes.\n",
    "\n",
    "- **Visitas anteriores** - *quantas visitas o usuário fez em nosso site anteriormente*\n",
    "    - Pode ser utilizado para analisar a fidelidade dos visitantes e a eficácia das estratégias de retenção.\n",
    "\n",
    "- **Taxa de conversão** - *percentual de visitantes que completaram alguma ação específica (por exemplo: comprar algum item).*\n",
    "    - A métrica definitiva para medir a eficácia do site em atingir seus **objetivos**.\n"
   ]
  },
  {
   "cell_type": "markdown",
   "metadata": {},
   "source": [
    "### ETL - Tratamento e Load\n"
   ]
  },
  {
   "cell_type": "markdown",
   "metadata": {},
   "source": [
    "Após o entendimento, vamos as tratativas feitas em Python e PowerBI:\n",
    "- Ajuste dos tipos dos dados (python);\n",
    "- Tratamento das colunas de tempo (python);\n",
    "- Tratamento dos tipos dos dados (python);\n",
    "- Promoção de cabeçalhos (PBI);\n",
    "- Tradução de títulos das colunas (PBI); \n",
    "- Verificação de nulos e duplicatas (PBI)."
   ]
  },
  {
   "cell_type": "markdown",
   "metadata": {},
   "source": [
    "### KPIs\n",
    "\n",
    "Foco na eficácia do tráfego pago feito, permitindo assim, ajustes e melhorias nas campanhas.\n",
    "\n",
    "- ROI\n",
    "- Leads gerados\n",
    "- Bons leads e conversão\n",
    "- Público atingido\n",
    "- Retorno dos CTAs (Call to Action)\n",
    "- Como o tempo no site converte em CTA e, quanto menos tempo, menor a chance de compra (Scatter)\n"
   ]
  },
  {
   "cell_type": "markdown",
   "metadata": {},
   "source": [
    "Gepeto - 🔎 Insights Estratégicos a se Tirar\n",
    "1️⃣ Qual canal está trazendo mais conversões?\n",
    "- Comparar Google Ads, Meta Ads (Facebook/Instagram), TikTok Ads, etc.\n",
    "- Entender qual tem maior ROI e otimizar investimentos.\n",
    "\n",
    "2️⃣ O tráfego pago está trazendo público qualificado?\n",
    "- Analisar tempo médio na página e taxa de rejeição por origem do tráfego.\n",
    "- Se os visitantes saem rápido, pode ser um problema de segmentação ou da landing page.\n",
    "\n",
    "3️⃣ Impacto dos CTAs nas conversões\n",
    "- Testar diferentes CTAs e avaliar qual tem maior taxa de clique (CTR).\n",
    "- Se um CTA performa melhor, replicá-lo em outras campanhas.\n",
    "\n",
    "4️⃣ Qual é o CAC (Custo de Aquisição de Cliente)?\n",
    "- Quanto está sendo investido por cliente captado?\n",
    "- Comparar com o LTV (Lifetime Value) para ver se está sustentável."
   ]
  },
  {
   "cell_type": "markdown",
   "metadata": {},
   "source": [
    "📊 Novos KPIs para Melhorar a Análise\\\n",
    "Além dos que você listou (ROI, Leads, Conversões, Público Atingido e Retorno dos CTAs), sugiro adicionar:\n",
    "\n",
    "1. Custo por Lead (CPL)\n",
    "Mede quanto está sendo gasto para gerar cada lead.\\\n",
    "CPL = Total Investido / Total de Leads\\\n",
    "Se o CPL estiver alto, pode ser necessário ajustar segmentação ou otimizar anúncios.\n",
    "\n",
    "2. Taxa de Conversão por Canal\n",
    "Mede qual percentual de visitantes vindos do tráfego pago realmente convertem.\\\n",
    "Taxa de Conversão (%) = (Leads Gerados / Cliques) * 100\\\n",
    "Isso ajuda a identificar quais canais trazem tráfego mais qualificado.\n",
    "\n",
    "3. Taxa de Rejeição\n",
    "Mede quantos usuários saem rapidamente do site sem interagir.\\\n",
    "Se for alta, pode indicar problemas na página de destino (landing page não está atraente, lenta, ou desalinhada com o anúncio).\n",
    "\n",
    "4. Tempo Médio na Página\n",
    "Indica o engajamento dos visitantes.\\\n",
    "Se os visitantes saem rápido, pode ser que o anúncio esteja atraindo um público errado ou a página não esteja otimizada.\n",
    "\n",
    "5. Custo de Aquisição de Cliente (CAC)\n",
    "Mede quanto custa trazer um cliente pagante.\\\n",
    "CAC = Total Investido / Total de Clientes Adquiridos\\\n",
    "Comparando com o LTV (Lifetime Value), você pode entender se a estratégia é sustentável."
   ]
  }
 ],
 "metadata": {
  "language_info": {
   "name": "python"
  }
 },
 "nbformat": 4,
 "nbformat_minor": 2
}
